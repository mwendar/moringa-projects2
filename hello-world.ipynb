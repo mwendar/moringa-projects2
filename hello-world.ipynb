Hello, world!
Welcome to my first website! I am about to embark on the exciting journey of learning how to code. Won't you join me?
 still learning

 Resource: Cheat Sheet - Git Commands
Daily Git Workflow
Set Name and Email
Solo Programming
Use the git config command to set your name and email for your local computer. This only needs to be done once.

$ git config --global user.name "Santa Claus"
$ git config --global user.email santa@northpole.com

Tracking Changes
Create a new project directory with Git repository
In the terminal type these commands:

$ mkdir project-name
$ cd project-name
$ git init

After adding files or making changes, track the changes.
Use this command to add all changes:

$ git add .

Use this command to add a specific file (replace filename.ipynb with the name of the file to add):

$ git add filename.ipynb

Commit the changes.
In terminal:

$ git commit -m "add a short, descriptive present-tense message here describing the changes made"

Create repository for project on GitHub at https://github.com/new (Links to an external site.).

Add the remote to the project.

In terminal:

$ git remote add [remote name] [remote URL]

[remote name]: Name of the remote. When working solo, use origin.
[remote URL]: The URL of the remote on GitHub.
For example, this command adds a remote named origin to the repository at https://github.com/moringaschool/hello-world:
$ git remote add origin https://github.com/moringaschool/hello-world.git

Push the changes to GitHub.
In terminal:

$ git push [remote name] [branch name]

[branch name]: Name of the branch you're working on.
For example, this command pushes to the remote named origin to the master branch:
$ git push origin master

Clone repository from GitHub.
In terminal:

$ git clone [remote URL]

For example, this command clones the repository at https://github.com/moringaschool/hello-world:

$ git clone https://github.com/moringaschool/hello-world.git

Git Commands Overview
In this reference, examples in brackets [xxx], should be entirely replaced by what is indicated (do not leave the [ ] symbols).

Project Setup
$ git init: Initializes new local Git repository in the current directory.
Tracking Files
$ git add .: Adds ALL files with changes to be committed.
$ git add [file]: Adds the named file to be committed.
$ git commit -m "[message]": records all of the staged files permanently to the version history; message should describe the changes finishing the phrase "This commit will…".
Example: $ git commit -m "add submit functionality for the form"
Remote Repositories
$ git remote add [remote name] [remote URL]: Adds a remote with the name specified for the repository to the remote URL provided.
$ git remote -v: Shows the names and URLs for all of the remote repositories that the project's Git repository has stored.
$ git push [remote name] [branch name]: Copies the code to the remote repository from the local Git repository.
$ git clone [remote URL]: Copies the code and commit history from a remote repository to a local repository.
Reviewing Git Info
$ git log: Lists commit history for the current branch.
$ git log --oneline: Lists a condensed format of the commit history for the current branch.
$ git status: Lists the files where changes have been made to be committed.
